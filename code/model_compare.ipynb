{
 "cells": [
  {
   "cell_type": "code",
   "execution_count": null,
   "metadata": {},
   "outputs": [],
   "source": [
    "import numpy as np\n",
    "import pandas as pd\n",
    "from sklearn.model_selection import StratifiedKFold, cross_val_score, cross_validate\n",
    "from sklearn.linear_model import RidgeClassifier, LogisticRegression\n",
    "from sklearn.svm import SVC\n",
    "from sklearn.ensemble import RandomForestClassifier, AdaBoostClassifier, GradientBoostingClassifier\n",
    "from xgboost import XGBClassifier\n",
    "from lightgbm import LGBMClassifier\n",
    "from catboost import CatBoostClassifier\n",
    "from sklearn.neighbors import KNeighborsClassifier\n",
    "from sklearn.naive_bayes import GaussianNB\n",
    "from sklearn.neural_network import MLPClassifier\n",
    "from sklearn.discriminant_analysis import QuadraticDiscriminantAnalysis, LinearDiscriminantAnalysis\n",
    "from sklearn.preprocessing import StandardScaler\n",
    "from sklearn.model_selection import train_test_split\n",
    "from sklearn.metrics import accuracy_score, roc_auc_score\n",
    "from tqdm import tqdm\n",
    "import matplotlib.pyplot as plt\n",
    "import warnings\n",
    "from imblearn.over_sampling import SMOTE\n",
    "warnings.filterwarnings('ignore')"
   ]
  },
  {
   "cell_type": "code",
   "execution_count": null,
   "metadata": {},
   "outputs": [],
   "source": [
    "data = pd.read_csv(\"paras.txt\", sep = \"\\t\")\n",
    "data = data.sample(frac=1, random_state=42)\n",
    "alphabet_1 = {\"ASD\": 0, \n",
    "            \"ASD_Cancer\": 1}\n",
    "alphabet_2 = {\"Cancer\":0,\n",
    "              \"ASD_Cancer\": 1}\n",
    "data_1 = data.loc[data['Disease'].isin(['ASD', 'ASD_Cancer'])]\n",
    "data_2 = data.loc[data['Disease'].isin(['Cancer', 'ASD_Cancer'])]"
   ]
  },
  {
   "cell_type": "code",
   "execution_count": null,
   "metadata": {},
   "outputs": [],
   "source": [
    "X_1 = data_1.iloc[:, 3:]\n",
    "y_1 = data_1[\"Disease\"].replace(alphabet_1)\n",
    "X_train_1, X_test_1, y_train_1, y_test_1 = train_test_split(\n",
    "    X_1, y_1, test_size=0.2, random_state=42, stratify=y_1\n",
    ")\n",
    "X_2 = data_2.iloc[:, 3:]\n",
    "y_2 = data_2[\"Disease\"].replace(alphabet_2)\n",
    "X_train_2, X_test_2, y_train_2, y_test_2 = train_test_split(\n",
    "    X_2, y_2, test_size=0.2, random_state=42, stratify=y_2\n",
    ")\n"
   ]
  },
  {
   "cell_type": "code",
   "execution_count": null,
   "metadata": {},
   "outputs": [],
   "source": [
    "cv = StratifiedKFold(n_splits=5, shuffle=True, random_state=42)\n",
    "\n",
    "models = {\n",
    "    'LDA': LinearDiscriminantAnalysis(),\n",
    "    'QDA': QuadraticDiscriminantAnalysis(),\n",
    "    'Ridge': RidgeClassifier(random_state=42),\n",
    "    'LR': LogisticRegression(max_iter=1000, random_state=42),\n",
    "    'SVM': SVC(kernel='linear', probability=True, random_state=42, max_iter=100000),\n",
    "    'Random Forest': RandomForestClassifier(random_state=42, n_jobs=-1),\n",
    "    'AdaBoost': AdaBoostClassifier(random_state=42),\n",
    "    'Gradient Boost': GradientBoostingClassifier(random_state=42),\n",
    "    'XGBoost': XGBClassifier(use_label_encoder=False, eval_metric='logloss', random_state=42, n_jobs=-1),\n",
    "    'LightGBM': LGBMClassifier(verbose=-1, n_jobs=-1),\n",
    "    'CatBoost': CatBoostClassifier(verbose=False, random_state=42),\n",
    "    'KNN': KNeighborsClassifier(n_jobs=-1),\n",
    "    'Naive Bayes': GaussianNB(),\n",
    "    'Neural Network': MLPClassifier(max_iter=1000, random_state=42)\n",
    "}\n",
    "\n",
    "def evaluate_models(models, X, y, cv):\n",
    "    results = []\n",
    "    for name, model in tqdm(models.items()):\n",
    "        scores = cross_validate(model, X, y, cv=cv, scoring=['accuracy', 'precision_macro', 'recall_macro', 'f1_macro'], n_jobs=-1)\n",
    "        results.append({\n",
    "            'Model': name,\n",
    "            'CV Accuracy': scores['test_accuracy'].mean(),\n",
    "            'CV Precision': scores['test_precision_macro'].mean(),\n",
    "            'CV Recall': scores['test_recall_macro'].mean(),\n",
    "            'CV F1-Score': scores['test_f1_macro'].mean()\n",
    "        })\n",
    "    df_results = pd.DataFrame(results).sort_values(by='CV Accuracy', ascending=False)\n",
    "    return df_results\n"
   ]
  },
  {
   "cell_type": "code",
   "execution_count": null,
   "metadata": {},
   "outputs": [],
   "source": [
    "def plot_model_performance(df_results, metric='CV Accuracy', save = None, title = None):\n",
    "    df_sorted = df_results.sort_values(by=metric, ascending=False)\n",
    "    cmap = plt.get_cmap('viridis')\n",
    "    norm = plt.Normalize(df_sorted[metric].min(), df_sorted[metric].max())\n",
    "    colors = [cmap(norm(value)) for value in df_sorted[metric]]\n",
    "    plt.figure(figsize=(6, 4))\n",
    "    bars = plt.barh(df_sorted['Model'], df_sorted[metric], color=colors)\n",
    "    plt.xlabel(metric)\n",
    "    if title:\n",
    "        plt.title(title)\n",
    "    else:\n",
    "        plt.title(f'Model Comparison')\n",
    "    for bar, value in zip(bars, df_sorted[metric]):\n",
    "        plt.text(value, bar.get_y() + bar.get_height()/2, f'{value:.3f}', \n",
    "                 va='center', ha='left', color='black', fontsize=5)\n",
    "    plt.grid(axis='x', linestyle='--', alpha=0.7)\n",
    "    plt.tight_layout()\n",
    "    if save is not None:\n",
    "        plt.savefig(save)\n",
    "    plt.show()\n"
   ]
  },
  {
   "cell_type": "code",
   "execution_count": null,
   "metadata": {},
   "outputs": [],
   "source": [
    "df_results_1 = evaluate_models(models, X_1, y_1, cv=cv)\n",
    "print(df_results_1)\n",
    "plot_model_performance(df_results_1, metric='CV Accuracy', save = \"model_evaluation_1.pdf\", title = \"Model Comparision of ASD & Cancer/ASD\")"
   ]
  },
  {
   "cell_type": "code",
   "execution_count": null,
   "metadata": {},
   "outputs": [],
   "source": [
    "df_results_2 = evaluate_models(models, X_2, y_2, cv=cv)\n",
    "print(df_results_2)\n",
    "plot_model_performance(df_results_2, metric='CV Accuracy', save = \"model_evaluation_2.pdf\", title = \"Model Comparision of Cancer & Cancer/ASD\")"
   ]
  }
 ],
 "metadata": {
  "kernelspec": {
   "display_name": "DL",
   "language": "python",
   "name": "python3"
  },
  "language_info": {
   "codemirror_mode": {
    "name": "ipython",
    "version": 3
   },
   "file_extension": ".py",
   "mimetype": "text/x-python",
   "name": "python",
   "nbconvert_exporter": "python",
   "pygments_lexer": "ipython3",
   "version": "3.12.4"
  }
 },
 "nbformat": 4,
 "nbformat_minor": 2
}
