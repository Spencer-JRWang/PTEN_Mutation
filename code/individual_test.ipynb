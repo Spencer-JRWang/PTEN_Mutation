{
 "cells": [
  {
   "cell_type": "code",
   "execution_count": null,
   "metadata": {},
   "outputs": [],
   "source": [
    "import pandas as pd\n",
    "from sklearn.model_selection import train_test_split\n",
    "import warnings\n",
    "warnings.filterwarnings('ignore')"
   ]
  },
  {
   "cell_type": "code",
   "execution_count": null,
   "metadata": {},
   "outputs": [],
   "source": [
    "data = pd.read_csv(\"paras.txt\", sep = \"\\t\")\n",
    "data = data.sample(frac=1, random_state=42)\n",
    "alphabet_1 = {\"ASD\": 0, \n",
    "            \"ASD_Cancer\": 1}\n",
    "alphabet_2 = {\"Cancer\":0,\n",
    "              \"ASD_Cancer\": 1}\n",
    "data_1 = data.loc[data['Disease'].isin(['ASD', 'ASD_Cancer'])]\n",
    "data_2 = data.loc[data['Disease'].isin(['Cancer', 'ASD_Cancer'])]"
   ]
  },
  {
   "cell_type": "code",
   "execution_count": null,
   "metadata": {},
   "outputs": [],
   "source": [
    "X_1 = data_1.iloc[:, 3:]\n",
    "y_1 = data_1[\"Disease\"].replace(alphabet_1)\n",
    "X_train_1, X_test_1, y_train_1, y_test_1 = train_test_split(\n",
    "    X_1, y_1, test_size=0.2, random_state=42, stratify=y_1\n",
    ")\n",
    "X_2 = data_2.iloc[:, 3:]\n",
    "y_2 = data_2[\"Disease\"].replace(alphabet_2)\n",
    "X_train_2, X_test_2, y_train_2, y_test_2 = train_test_split(\n",
    "    X_2, y_2, test_size=0.2, random_state=42, stratify=y_2\n",
    ")"
   ]
  },
  {
   "cell_type": "code",
   "execution_count": null,
   "metadata": {},
   "outputs": [],
   "source": [
    "from utils import ModelUtilities\n",
    "model_1 = ModelUtilities()\n",
    "roc_auc_1, fpr_1, tpr_1 = model_1.execute_pipeline(X_train_1, X_test_1, y_train_1, y_test_1)\n",
    "print(roc_auc_1)"
   ]
  },
  {
   "cell_type": "code",
   "execution_count": null,
   "metadata": {},
   "outputs": [],
   "source": [
    "from utils import ModelUtilities\n",
    "model_2 = ModelUtilities()\n",
    "roc_auc_2, fpr_2, tpr_2 = model_1.execute_pipeline(X_train_2, X_test_2, y_train_2, y_test_2)\n",
    "print(roc_auc_2)"
   ]
  }
 ],
 "metadata": {
  "kernelspec": {
   "display_name": "DL",
   "language": "python",
   "name": "python3"
  },
  "language_info": {
   "codemirror_mode": {
    "name": "ipython",
    "version": 3
   },
   "file_extension": ".py",
   "mimetype": "text/x-python",
   "name": "python",
   "nbconvert_exporter": "python",
   "pygments_lexer": "ipython3",
   "version": "3.12.4"
  }
 },
 "nbformat": 4,
 "nbformat_minor": 2
}
